{
 "cells": [
  {
   "cell_type": "code",
   "execution_count": 1,
   "metadata": {},
   "outputs": [],
   "source": [
    "import numpy as np"
   ]
  },
  {
   "cell_type": "code",
   "execution_count": 2,
   "metadata": {},
   "outputs": [],
   "source": [
    "main_mat = np.array([\n",
    "    [1,12,3,32],\n",
    "    [8,12,3,14],\n",
    "    [0,6,1,11],\n",
    "    [18,4,2,2]\n",
    "])"
   ]
  },
  {
   "cell_type": "code",
   "execution_count": 3,
   "metadata": {},
   "outputs": [],
   "source": [
    "my_filter = np.array([\n",
    "    [1,-1,1],\n",
    "    [1,-1,1],\n",
    "    [1,-1,1]\n",
    "])"
   ]
  },
  {
   "cell_type": "code",
   "execution_count": 4,
   "metadata": {},
   "outputs": [],
   "source": [
    "# my_filter = np.array([\n",
    "#     [1,-2,3],\n",
    "#     [3,3,-1],\n",
    "#     [4,-8,1]\n",
    "# ])"
   ]
  },
  {
   "cell_type": "code",
   "execution_count": 5,
   "metadata": {},
   "outputs": [
    {
     "data": {
      "text/plain": [
       "(3, 3)"
      ]
     },
     "execution_count": 5,
     "metadata": {},
     "output_type": "execute_result"
    }
   ],
   "source": [
    "my_filter.shape"
   ]
  },
  {
   "cell_type": "code",
   "execution_count": 6,
   "metadata": {},
   "outputs": [],
   "source": [
    "def get_mat_idx(i,j,main_mat):\n",
    "    if i<0 or j<0 or i>=main_mat.shape[0] or j>=main_mat.shape[1]:\n",
    "        return 0\n",
    "    return main_mat[i][j]"
   ]
  },
  {
   "cell_type": "code",
   "execution_count": 7,
   "metadata": {},
   "outputs": [],
   "source": [
    "def apply_conv(main_mat,filter_mat):\n",
    "    new_mat = np.zeros_like(main_mat)\n",
    "    for i in range(new_mat.shape[0]):\n",
    "        for j in range(new_mat.shape[1]):\n",
    "            new_mat[i][j]=0.\n",
    "            for i_f in range(filter_mat.shape[0]):\n",
    "                for j_f in range(filter_mat.shape[1]):\n",
    "                    new_mat[i][j]+=get_mat_idx(i+i_f-math.floor(filter_mat.shape[0]/2),j+j_f-math.floor(filter_mat.shape[1]/2),main_mat)*filter_mat[filter_mat.shape[0]-1-i_f][filter_mat.shape[1]-1-j_f]\n",
    "    return new_mat"
   ]
  },
  {
   "cell_type": "code",
   "execution_count": 8,
   "metadata": {},
   "outputs": [],
   "source": [
    "import math\n"
   ]
  },
  {
   "cell_type": "code",
   "execution_count": 9,
   "metadata": {},
   "outputs": [
    {
     "data": {
      "text/plain": [
       "array([[ -59,  203, -257,  234],\n",
       "       [ -45,  232, -311,  298],\n",
       "       [  -2,  145, -217,  224],\n",
       "       [  33,   30,  -73,   94]])"
      ]
     },
     "execution_count": 9,
     "metadata": {},
     "output_type": "execute_result"
    }
   ],
   "source": [
    "apply_conv(apply_conv(main_mat,my_filter),my_filter)"
   ]
  },
  {
   "cell_type": "code",
   "execution_count": 10,
   "metadata": {},
   "outputs": [
    {
     "data": {
      "text/plain": [
       "array([[ -63,  112, -323,  342],\n",
       "       [ -66,  130, -349,  350],\n",
       "       [  56,   20, -191,  169],\n",
       "       [ 114,  -52,  -80,   68]])"
      ]
     },
     "execution_count": 10,
     "metadata": {},
     "output_type": "execute_result"
    }
   ],
   "source": [
    "apply_conv(main_mat,apply_conv(my_filter,my_filter))"
   ]
  },
  {
   "cell_type": "code",
   "execution_count": 11,
   "metadata": {},
   "outputs": [
    {
     "data": {
      "text/plain": [
       "array([[-4,  6, -4],\n",
       "       [-6,  9, -6],\n",
       "       [-4,  6, -4]])"
      ]
     },
     "execution_count": 11,
     "metadata": {},
     "output_type": "execute_result"
    }
   ],
   "source": [
    "apply_conv(my_filter,my_filter)"
   ]
  },
  {
   "cell_type": "code",
   "execution_count": 12,
   "metadata": {},
   "outputs": [
    {
     "data": {
      "text/plain": [
       "array([[ 1, -1,  1],\n",
       "       [ 1, -1,  1],\n",
       "       [ 1, -1,  1]])"
      ]
     },
     "execution_count": 12,
     "metadata": {},
     "output_type": "execute_result"
    }
   ],
   "source": [
    "my_filter"
   ]
  },
  {
   "cell_type": "code",
   "execution_count": 13,
   "metadata": {},
   "outputs": [],
   "source": [
    "m = np.array([\n",
    "    [1,2,3],\n",
    "    [4,5,6],\n",
    "    [7,8,9]\n",
    "    ])"
   ]
  },
  {
   "cell_type": "code",
   "execution_count": 14,
   "metadata": {},
   "outputs": [],
   "source": [
    "f=np.array([\n",
    "    [-1,-2,-1],\n",
    "    [0,0,0],\n",
    "    [1,2,1]\n",
    "])"
   ]
  },
  {
   "cell_type": "code",
   "execution_count": 15,
   "metadata": {},
   "outputs": [
    {
     "data": {
      "text/plain": [
       "array([[-13, -20, -17],\n",
       "       [-18, -24, -18],\n",
       "       [ 13,  20,  17]])"
      ]
     },
     "execution_count": 15,
     "metadata": {},
     "output_type": "execute_result"
    }
   ],
   "source": [
    "apply_conv(m,f)"
   ]
  },
  {
   "cell_type": "code",
   "execution_count": 16,
   "metadata": {},
   "outputs": [],
   "source": [
    "import scipy.signal"
   ]
  },
  {
   "cell_type": "code",
   "execution_count": 17,
   "metadata": {},
   "outputs": [
    {
     "data": {
      "text/plain": [
       "array([[-13, -20, -17],\n",
       "       [-18, -24, -18],\n",
       "       [ 13,  20,  17]])"
      ]
     },
     "execution_count": 17,
     "metadata": {},
     "output_type": "execute_result"
    }
   ],
   "source": [
    "scipy.signal.convolve2d(m, f, mode='same')"
   ]
  },
  {
   "cell_type": "code",
   "execution_count": 18,
   "metadata": {},
   "outputs": [
    {
     "data": {
      "text/plain": [
       "array([[ -59,  203, -257,  234],\n",
       "       [ -45,  232, -311,  298],\n",
       "       [  -2,  145, -217,  224],\n",
       "       [  33,   30,  -73,   94]])"
      ]
     },
     "execution_count": 18,
     "metadata": {},
     "output_type": "execute_result"
    }
   ],
   "source": [
    "apply_conv(apply_conv(main_mat,my_filter),my_filter)"
   ]
  },
  {
   "cell_type": "code",
   "execution_count": 19,
   "metadata": {},
   "outputs": [
    {
     "data": {
      "text/plain": [
       "array([[ -59,  203, -257,  234],\n",
       "       [ -45,  232, -311,  298],\n",
       "       [  -2,  145, -217,  224],\n",
       "       [  33,   30,  -73,   94]])"
      ]
     },
     "execution_count": 19,
     "metadata": {},
     "output_type": "execute_result"
    }
   ],
   "source": [
    "scipy.signal.convolve2d(scipy.signal.convolve2d(main_mat, my_filter, mode='same'),my_filter,mode='same')"
   ]
  },
  {
   "cell_type": "code",
   "execution_count": 20,
   "metadata": {},
   "outputs": [
    {
     "data": {
      "text/plain": [
       "array([[ -63,  112, -323,  342],\n",
       "       [ -66,  130, -349,  350],\n",
       "       [  56,   20, -191,  169],\n",
       "       [ 114,  -52,  -80,   68]])"
      ]
     },
     "execution_count": 20,
     "metadata": {},
     "output_type": "execute_result"
    }
   ],
   "source": [
    "apply_conv(main_mat,apply_conv(my_filter,my_filter))"
   ]
  },
  {
   "cell_type": "code",
   "execution_count": 21,
   "metadata": {},
   "outputs": [
    {
     "data": {
      "text/plain": [
       "array([[ -63,  112, -323,  342],\n",
       "       [ -66,  130, -349,  350],\n",
       "       [  56,   20, -191,  169],\n",
       "       [ 114,  -52,  -80,   68]])"
      ]
     },
     "execution_count": 21,
     "metadata": {},
     "output_type": "execute_result"
    }
   ],
   "source": [
    "scipy.signal.convolve2d(main_mat,scipy.signal.convolve2d(my_filter, my_filter, mode='same'),mode='same')"
   ]
  },
  {
   "cell_type": "code",
   "execution_count": null,
   "metadata": {},
   "outputs": [],
   "source": []
  }
 ],
 "metadata": {
  "kernelspec": {
   "display_name": "Python 3",
   "language": "python",
   "name": "python3"
  },
  "language_info": {
   "codemirror_mode": {
    "name": "ipython",
    "version": 3
   },
   "file_extension": ".py",
   "mimetype": "text/x-python",
   "name": "python",
   "nbconvert_exporter": "python",
   "pygments_lexer": "ipython3",
   "version": "3.8.3"
  }
 },
 "nbformat": 4,
 "nbformat_minor": 4
}
