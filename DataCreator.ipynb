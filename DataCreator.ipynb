{
 "cells": [
  {
   "cell_type": "code",
   "execution_count": 1,
   "metadata": {},
   "outputs": [],
   "source": [
    "import random\n",
    "import numpy as np"
   ]
  },
  {
   "cell_type": "code",
   "execution_count": null,
   "metadata": {},
   "outputs": [],
   "source": []
  },
  {
   "cell_type": "code",
   "execution_count": 2,
   "metadata": {},
   "outputs": [],
   "source": [
    "x_range = (64,1025)\n",
    "u_range = (3,32)\n",
    "\n",
    "# x_range = (10,20)\n",
    "# u_range = (3,10)\n",
    "for T in range(1,11):\n",
    "    input_filename=\"input{}.txt\".format(T)\n",
    "    lines_to_write = []\n",
    "    lines_to_write.append('{}'.format(T))\n",
    "    for t in range(T):\n",
    "        X,Y=[random.randint(*x_range) for i in range(2)]\n",
    "        U,V = [random.choice([z for z in range(*u_range,2) ]) for i in range(2)]\n",
    "        N=random.randint(1,6)\n",
    "        lines_to_write.append(\" \".join([str(x) for x in [X,Y,U,V,N]]))\n",
    "        main_mat = np.random.rand(X,Y)\n",
    "        filter_mat = np.random.rand(U,V)\n",
    "        all_lines = lines_to_write\n",
    "        for x in range(X):\n",
    "            this_line = \" \".join([ str(z) for z in main_mat[x]])\n",
    "            all_lines.append(this_line)\n",
    "        for x in range(U):\n",
    "            this_line = \" \".join([ str(z) for z in filter_mat[x]])\n",
    "            all_lines.append(this_line)\n",
    "            \n",
    "    f = open(input_filename, \"w\")\n",
    "    f.writelines([\"\\n\".join(lines_to_write)])\n",
    "    f.close()    "
   ]
  },
  {
   "cell_type": "code",
   "execution_count": null,
   "metadata": {},
   "outputs": [],
   "source": []
  }
 ],
 "metadata": {
  "kernelspec": {
   "display_name": "Python 3",
   "language": "python",
   "name": "python3"
  },
  "language_info": {
   "codemirror_mode": {
    "name": "ipython",
    "version": 3
   },
   "file_extension": ".py",
   "mimetype": "text/x-python",
   "name": "python",
   "nbconvert_exporter": "python",
   "pygments_lexer": "ipython3",
   "version": "3.8.3"
  }
 },
 "nbformat": 4,
 "nbformat_minor": 4
}
